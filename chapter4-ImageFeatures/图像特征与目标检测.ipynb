{
 "cells": [
  {
   "cell_type": "markdown",
   "source": [
    "四、图像特征与目标检测\n",
    "\n",
    "目录\n",
    "\n",
    "1. 图像特征理解\n",
    "2. 形状特征\n",
    "    - Harris\n",
    "    - HOG 原理\n",
    "    - SIFT\n",
    "- 纹理特征\n",
    "    - LBP\n",
    "- 模版匹配\n",
    "- 人脸检测\n",
    "- 行人检测"
   ],
   "metadata": {
    "collapsed": false
   }
  },
  {
   "cell_type": "markdown",
   "source": [],
   "metadata": {
    "collapsed": false
   }
  },
  {
   "cell_type": "markdown",
   "source": [],
   "metadata": {
    "collapsed": false
   }
  },
  {
   "cell_type": "markdown",
   "source": [],
   "metadata": {
    "collapsed": false
   }
  },
  {
   "cell_type": "markdown",
   "source": [],
   "metadata": {
    "collapsed": false
   }
  },
  {
   "cell_type": "markdown",
   "metadata": {},
   "source": [
    "1.Hog特征"
   ]
  },
  {
   "cell_type": "code",
   "execution_count": 2,
   "metadata": {},
   "outputs": [
    {
     "name": "stdout",
     "output_type": "stream",
     "text": [
      "[[322 123  92 184]\n",
      " [228 106  94 188]\n",
      " [ 97 109  92 184]\n",
      " [157 143  89 178]]\n",
      "[[1.65200863]\n",
      " [1.38857948]\n",
      " [2.16342618]\n",
      " [1.30450142]]\n",
      "[array([322, 123,  92, 184], dtype=int32)]\n",
      "[array([322, 123,  92, 184], dtype=int32), array([228, 106,  94, 188], dtype=int32)]\n",
      "[array([322, 123,  92, 184], dtype=int32), array([228, 106,  94, 188], dtype=int32), array([ 97, 109,  92, 184], dtype=int32)]\n",
      "[array([322, 123,  92, 184], dtype=int32), array([228, 106,  94, 188], dtype=int32), array([ 97, 109,  92, 184], dtype=int32), array([157, 143,  89, 178], dtype=int32)]\n"
     ]
    }
   ],
   "source": [
    "import cv2\n",
    "import numpy as np\n",
    "# 判断矩形i是否完全包含在矩形o中\n",
    "def is_inside(o, i):\n",
    "    ox, oy, ow, oh = o\n",
    "    ix, iy, iw, ih = i\n",
    "    return ox > ix and oy > iy and ox + ow < ix + iw and oy + oh < iy + ih\n",
    "# 对人体绘制颜色框\n",
    "def draw_person(image, person):\n",
    "    x, y, w, h = person\n",
    "    cv2.rectangle(image, (x, y), (x + w, y + h), (0, 255, 255), 2)\n",
    "img = cv2.imread(\"images/people.jpg\")\n",
    "hog = cv2.HOGDescriptor()  # 启动检测器对象\n",
    "hog.setSVMDetector(cv2.HOGDescriptor_getDefaultPeopleDetector())  # 指定检测器类型为人体\n",
    "found, w = hog.detectMultiScale(img,0.1,(2,2)) # 加载并检测图像\n",
    "print(found)\n",
    "print(w)\n",
    "\n",
    "# 丢弃某些完全被其它矩形包含在内的矩形\n",
    "found_filtered = []\n",
    "for ri, r in enumerate(found):\n",
    "    for qi, q in enumerate(found):\n",
    "        if ri != qi and is_inside(r, q):\n",
    "            break\n",
    "    else:\n",
    "        found_filtered.append(r)\n",
    "        print(found_filtered)\n",
    "# 对不包含在内的有效矩形进行颜色框定\n",
    "for person in found_filtered:\n",
    "    draw_person(img, person)\n",
    "cv2.imshow(\"people detection\", img)\n",
    "cv2.waitKey(0)\n",
    "cv2.destroyAllWindows()"
   ]
  },
  {
   "cell_type": "markdown",
   "metadata": {},
   "source": [
    "2.Harris角点检测"
   ]
  },
  {
   "cell_type": "code",
   "execution_count": 2,
   "metadata": {},
   "outputs": [
    {
     "name": "stderr",
     "output_type": "stream",
     "text": [
      "C:\\Software\\Anaconda3\\lib\\site-packages\\ipykernel_launcher.py:23: RuntimeWarning: invalid value encountered in greater\n"
     ]
    },
    {
     "data": {
      "image/png": "[encoded data removed]",
      "text/plain": [
       "<matplotlib.figure.Figure at 0x192eebbabe0>"
      ]
     },
     "metadata": {},
     "output_type": "display_data"
    }
   ],
   "source": [
    "import cv2\n",
    "import numpy as np\n",
    "from matplotlib import pyplot as plt\n",
    "\n",
    "img = cv2.imread('images/harris2.png')\n",
    "img = cv2.cvtColor(img, cv2.COLOR_BGR2RGB)\n",
    "gray = cv2.cvtColor(img, cv2.COLOR_BGR2GRAY)\n",
    "gray = np.float32(gray)\n",
    "dst_block9_ksize19 = cv2.cornerHarris(gray, 9, 19, 0.04)\n",
    "img1 = np.copy(img)\n",
    "img1[dst_block9_ksize19 > 0.01 * dst_block9_ksize19.max()] = [0, 0, 255]\n",
    "\n",
    "dst_block5_ksize19 = cv2.cornerHarris(gray, 5, 19, 0.04)\n",
    "img2 = np.copy(img)\n",
    "img2[dst_block5_ksize19 > 0.01 * dst_block5_ksize19.max()] = [0, 0, 255]\n",
    "\n",
    "dst_block9_ksize5 = cv2.cornerHarris(gray, 9, 5, 0.04)\n",
    "img3 = np.copy(img)\n",
    "img3[dst_block9_ksize5 > 0.01 * dst_block9_ksize5.max()] = [0, 0, 255]\n",
    "\n",
    "dst_block9_ksize31 = cv2.cornerHarris(gray, 9, 31, 0.04)\n",
    "img4 = np.copy(img)\n",
    "img4[dst_block9_ksize31 > 0.01 * dst_block9_ksize31.max()] = [0, 0, 255]\n",
    "\n",
    "dst_block9_ksize19_k6 = cv2.cornerHarris(gray, 9, 19, 0.06)\n",
    "img5 = np.copy(img)\n",
    "img5[dst_block9_ksize19_k6 > 0.01 * dst_block9_ksize19_k6.max()] = [0, 0, 255]\n",
    "\n",
    "dst_block9_ksize19_k6_1e_5 = cv2.cornerHarris(gray, 9, 19, 0.06)\n",
    "img6 = np.copy(img)\n",
    "img6[dst_block9_ksize19_k6_1e_5 > 0.00001 * dst_block9_ksize19_k6_1e_5.max()] = [0, 0, 255]\n",
    "\n",
    "titles = [\"Original\", \"block9_ksize19\", \"dst_block5_ksize19\", \"dst_block9_ksize5\", \"dst_block9_ksize31\",\n",
    "          \"dst_block9_ksize19_k6\", \"dst_block9_ksize19_k6_1e_5\"]\n",
    "imgs = [img, img1, img2, img3, img4, img5, img6]\n",
    "for i in range(len(titles)):\n",
    "    plt.subplot(3, 3, i + 1), plt.imshow(imgs[i]), plt.title(titles[i])\n",
    "    plt.xticks([]), plt.yticks([])\n",
    "plt.show()\n",
    "# cv2.imshow('src',img)\n",
    "# cv2.imshow('dst',img5)\n",
    "# cv2.waitKey(0)\n",
    "# cv2.destroyAllWindows()"
   ]
  },
  {
   "cell_type": "markdown",
   "metadata": {},
   "source": [
    "3.Harris角点检测"
   ]
  },
  {
   "cell_type": "code",
   "execution_count": 3,
   "metadata": {},
   "outputs": [
    {
     "name": "stdout",
     "output_type": "stream",
     "text": [
      "[[0. 0. 0. ... 0. 0. 0.]\n",
      " [0. 0. 0. ... 0. 0. 0.]\n",
      " [0. 0. 0. ... 0. 0. 0.]\n",
      " ...\n",
      " [0. 0. 0. ... 0. 0. 0.]\n",
      " [0. 0. 0. ... 0. 0. 0.]\n",
      " [0. 0. 0. ... 0. 0. 0.]]\n",
      "533091900.0\n"
     ]
    }
   ],
   "source": [
    "# -*- coding: utf-8 -*-\n",
    "\n",
    "\n",
    "import cv2\n",
    "import numpy as np\n",
    "\n",
    "\n",
    "filename = 'images/harris2.png'\n",
    "img = cv2.imread(filename)\n",
    "gray = cv2.cvtColor(img,cv2.COLOR_BGR2GRAY)\n",
    "gray = np.float32(gray)\n",
    "\n",
    "# 输入图像必须是 float32 ,最后一个参数在 0.04 到 0.06 之间\n",
    "dst = cv2.cornerHarris(gray,2,3,0.06)\n",
    "\n",
    "#结果进行膨胀，可有可无\n",
    "dst = cv2.dilate(dst,None)\n",
    "print(dst)\n",
    "# 设定阈值，不同图像阈值不同\n",
    "img[dst>0.01*dst.max()]=[0,0,255]\n",
    "print(dst.max())\n",
    "cv2.imshow('dst_img',img)\n",
    "#cv2.imshow('dst',dst)\n",
    "cv2.waitKey(0)\n",
    "cv2.destroyAllWindows()"
   ]
  },
  {
   "cell_type": "markdown",
   "metadata": {},
   "source": [
    "4.SIFT算法"
   ]
  },
  {
   "cell_type": "code",
   "execution_count": 14,
   "metadata": {},
   "outputs": [
    {
     "ename": "error",
     "evalue": "OpenCV(3.4.9) C:\\projects\\opencv-python\\opencv_contrib\\modules\\xfeatures2d\\src\\sift.cpp:1210: error: (-213:The function/feature is not implemented) This algorithm is patented and is excluded in this configuration; Set OPENCV_ENABLE_NONFREE CMake option and rebuild the library in function 'cv::xfeatures2d::SIFT::create'\n",
     "output_type": "error",
     "traceback": [
      "\u001B[1;31m---------------------------------------------------------------------------\u001B[0m",
      "\u001B[1;31merror\u001B[0m                                     Traceback (most recent call last)",
      "\u001B[1;32m<ipython-input-14-e9a26daf84c0>\u001B[0m in \u001B[0;36m<module>\u001B[1;34m()\u001B[0m\n\u001B[0;32m      5\u001B[0m \u001B[0mimg\u001B[0m \u001B[1;33m=\u001B[0m \u001B[0mcv2\u001B[0m\u001B[1;33m.\u001B[0m\u001B[0mimread\u001B[0m\u001B[1;33m(\u001B[0m\u001B[1;34m'harris2.png'\u001B[0m\u001B[1;33m)\u001B[0m\u001B[1;33m\u001B[0m\u001B[0m\n\u001B[0;32m      6\u001B[0m \u001B[0mgray\u001B[0m\u001B[1;33m=\u001B[0m \u001B[0mcv2\u001B[0m\u001B[1;33m.\u001B[0m\u001B[0mcvtColor\u001B[0m\u001B[1;33m(\u001B[0m\u001B[0mimg\u001B[0m\u001B[1;33m,\u001B[0m\u001B[0mcv2\u001B[0m\u001B[1;33m.\u001B[0m\u001B[0mCOLOR_BGR2GRAY\u001B[0m\u001B[1;33m)\u001B[0m\u001B[1;33m\u001B[0m\u001B[0m\n\u001B[1;32m----> 7\u001B[1;33m \u001B[0msift\u001B[0m \u001B[1;33m=\u001B[0m \u001B[0mcv2\u001B[0m\u001B[1;33m.\u001B[0m\u001B[0mxfeatures2d\u001B[0m\u001B[1;33m.\u001B[0m\u001B[0mSIFT_create\u001B[0m\u001B[1;33m(\u001B[0m\u001B[1;33m)\u001B[0m\u001B[1;33m\u001B[0m\u001B[0m\n\u001B[0m\u001B[0;32m      8\u001B[0m \u001B[0mkp\u001B[0m \u001B[1;33m=\u001B[0m \u001B[0msift\u001B[0m\u001B[1;33m.\u001B[0m\u001B[0mdetect\u001B[0m\u001B[1;33m(\u001B[0m\u001B[0mgray\u001B[0m\u001B[1;33m,\u001B[0m\u001B[1;32mNone\u001B[0m\u001B[1;33m)\u001B[0m\u001B[1;31m#找到关键点\u001B[0m\u001B[1;33m\u001B[0m\u001B[0m\n\u001B[0;32m      9\u001B[0m \u001B[0mimg\u001B[0m\u001B[1;33m=\u001B[0m\u001B[0mcv2\u001B[0m\u001B[1;33m.\u001B[0m\u001B[0mdrawKeypoints\u001B[0m\u001B[1;33m(\u001B[0m\u001B[0mgray\u001B[0m\u001B[1;33m,\u001B[0m\u001B[0mkp\u001B[0m\u001B[1;33m,\u001B[0m\u001B[0mimg\u001B[0m\u001B[1;33m)\u001B[0m\u001B[1;31m#绘制关键点\u001B[0m\u001B[1;33m\u001B[0m\u001B[0m\n",
      "\u001B[1;31merror\u001B[0m: OpenCV(3.4.9) C:\\projects\\opencv-python\\opencv_contrib\\modules\\xfeatures2d\\src\\sift.cpp:1210: error: (-213:The function/feature is not implemented) This algorithm is patented and is excluded in this configuration; Set OPENCV_ENABLE_NONFREE CMake option and rebuild the library in function 'cv::xfeatures2d::SIFT::create'\n"
     ]
    }
   ],
   "source": [
    "import cv2\n",
    "import numpy as np\n",
    "\n",
    "\n",
    "img = cv2.imread('images/harris2.png')\n",
    "gray= cv2.cvtColor(img,cv2.COLOR_BGR2GRAY)\n",
    "sift = cv2.xfeatures2d.SIFT_create()\n",
    "kp = sift.detect(gray,None)#找到关键点\n",
    "img=cv2.drawKeypoints(gray,kp,img)#绘制关键点\n",
    "cv2.imshow('sp',img)\n",
    "cv2.waitKey(0)\n",
    "cv2.destroyAllWindows()"
   ]
  },
  {
   "cell_type": "markdown",
   "metadata": {
    "collapsed": true
   },
   "source": [
    "5.LBP特征"
   ]
  },
  {
   "cell_type": "code",
   "execution_count": 3,
   "metadata": {
    "collapsed": true
   },
   "outputs": [],
   "source": [
    "def LBP(src):\n",
    "    '''\n",
    "    :param src:灰度图像\n",
    "    :return:\n",
    "    '''\n",
    "    height = src.shape[0]\n",
    "    width = src.shape[1]\n",
    "    dst = src.copy()\n",
    "    lbp_value = np.zeros((1,8), dtype=np.uint8)\n",
    "    #print(lbp_value)\n",
    "    neighbours = np.zeros((1,8), dtype=np.uint8)\n",
    "    #print(neighbours)\n",
    "    for x in range(1, width-1):\n",
    "        for y in range(1, height-1):\n",
    "            neighbours[0, 0] = src[y - 1, x - 1]\n",
    "            neighbours[0, 1] = src[y - 1, x]\n",
    "            neighbours[0, 2] = src[y - 1, x + 1]\n",
    "            neighbours[0, 3] = src[y, x - 1]\n",
    "            neighbours[0, 4] = src[y, x + 1]\n",
    "            neighbours[0, 5] = src[y + 1, x - 1]\n",
    "            neighbours[0, 6] = src[y + 1, x]\n",
    "            neighbours[0, 7] = src[y + 1, x + 1]\n",
    "            center = src[y, x]\n",
    "            for i in range(8):\n",
    "                if neighbours[0, i] > center:\n",
    "                    lbp_value[0, i] = 1\n",
    "                else:\n",
    "                    lbp_value[0, i] = 0\n",
    "\n",
    "            lbp = lbp_value[0, 0] * 1 + lbp_value[0, 1] * 2 + lbp_value[0, 2] * 4 + lbp_value[0, 3] * 8 \\\n",
    "                + lbp_value[0, 4] * 16 + lbp_value[0, 5] * 32 + lbp_value[0, 6] * 64 + lbp_value[0, 7] * 128\n",
    "            \n",
    "            #print(lbp)\n",
    "            dst[y, x] = lbp\n",
    "\n",
    "    return dst"
   ]
  },
  {
   "cell_type": "code",
   "execution_count": 4,
   "metadata": {},
   "outputs": [
    {
     "name": "stdout",
     "output_type": "stream",
     "text": [
      "(334, 500)\n"
     ]
    }
   ],
   "source": [
    "import cv2\n",
    "import numpy as np\n",
    "img = cv2.imread('images/people.jpg',0)\n",
    "print(img.shape)\n",
    "cv2.imshow('src',img)\n",
    "cv2.waitKey(0)\n",
    "cv2.destroyAllWindows()\n",
    "new_img = LBP(img)\n",
    "\n",
    "cv2.imshow('dst',new_img)\n",
    "cv2.waitKey(0)\n",
    "cv2.destroyAllWindows()"
   ]
  },
  {
   "cell_type": "markdown",
   "metadata": {
    "collapsed": true
   },
   "source": [
    "6.模板匹配"
   ]
  },
  {
   "cell_type": "code",
   "execution_count": 5,
   "metadata": {},
   "outputs": [
    {
     "name": "stdout",
     "output_type": "stream",
     "text": [
      "(136, 92, 3)\n",
      "(643, 903, 3)\n",
      "0.313273549079895 1.0 (164, 186) (61, 0)\n",
      "0.39695343375205994 0.8127202391624451 (232, 111) (164, 186)\n",
      "-0.3538476526737213 0.5110524296760559 (356, 64) (164, 186)\n"
     ]
    }
   ],
   "source": [
    "#模板匹配\n",
    "import cv2\n",
    "import numpy as np\n",
    "def template_demo(tpl,target):\n",
    "\n",
    "    methods = [cv2.TM_SQDIFF_NORMED, cv2.TM_CCORR_NORMED, cv2.TM_CCOEFF_NORMED]   #3种模板匹配方法\n",
    "    th, tw = tpl.shape[:2]\n",
    "    for md in methods:\n",
    "        #print(md)\n",
    "        result = cv2.matchTemplate(target, tpl, md)\n",
    "        #print(result.shape)\n",
    "        min_val, max_val, min_loc, max_loc = cv2.minMaxLoc(result)\n",
    "        print(min_val, max_val, min_loc, max_loc)\n",
    "        if md == cv2.TM_SQDIFF_NORMED:\n",
    "            tl = min_loc\n",
    "        else:\n",
    "            tl = max_loc\n",
    "        br = (tl[0]+tw, tl[1]+th)   #br是矩形右下角的点的坐标\n",
    "        cv2.rectangle(target, tl, br, (0, 0, 255), 2)\n",
    "        cv2.namedWindow(\"match-\" + np.str(md), cv2.WINDOW_NORMAL)\n",
    "        cv2.imshow(\"match-\" + np.str(md), target)\n",
    "        \n",
    "tpl =cv2.imread(\"images/sample2.jpg\")\n",
    "print(tpl.shape)\n",
    "target = cv2.imread(\"images/target1.jpg\")\n",
    "print(target.shape)\n",
    "cv2.waitKey(0)\n",
    "cv2.destroyAllWindows()\n",
    "\n",
    "cv2.namedWindow('template image', cv2.WINDOW_NORMAL)\n",
    "cv2.imshow(\"template image\", tpl)\n",
    "cv2.namedWindow('target image', cv2.WINDOW_NORMAL)\n",
    "cv2.imshow(\"target image\", target)\n",
    "template_demo(tpl,target)\n",
    "cv2.waitKey(0)\n",
    "cv2.destroyAllWindows()"
   ]
  },
  {
   "cell_type": "markdown",
   "metadata": {},
   "source": [
    "7.人脸检测方法1"
   ]
  },
  {
   "cell_type": "code",
   "execution_count": 20,
   "metadata": {},
   "outputs": [
    {
     "name": "stdout",
     "output_type": "stream",
     "text": [
      "Face : 1\n",
      "[[ 68  35 249 249]]\n"
     ]
    }
   ],
   "source": [
    "import cv2\n",
    "\n",
    "# 读入图像\n",
    "img = cv2.imread(\"images/3.png\")\n",
    "\n",
    "# 加载人脸特征，该文件在 python安装目录\\Lib\\site-packages\\cv2\\data 下\n",
    "face_cascade = cv2.CascadeClassifier(r'haarcascade_frontalface_default.xml')\n",
    "# 将读取的图像转为COLOR_BGR2GRAY，减少计算强度\n",
    "gray = cv2.cvtColor(img, cv2.COLOR_BGR2GRAY)\n",
    "\n",
    "# 检测出的人脸个数\n",
    "faces = face_cascade.detectMultiScale(gray, scaleFactor = 1.15, minNeighbors = 4, minSize = (5, 5))\n",
    "\n",
    "print(\"Face : {0}\".format(len(faces)))\n",
    "print(faces)\n",
    "# 用矩形圈出人脸的位置\n",
    "for(x, y, w, h) in faces:\n",
    "    cv2.rectangle(img, (x, y), (x + w, y + h), (0, 255, 0), 2) \n",
    "\n",
    "cv2.namedWindow(\"Faces\")\n",
    "cv2.imshow(\"Faces\", img)\n",
    "cv2.waitKey(0)\n",
    "cv2.destroyAllWindows()\n"
   ]
  },
  {
   "cell_type": "markdown",
   "metadata": {},
   "source": [
    "8.人脸检测方法2"
   ]
  },
  {
   "cell_type": "code",
   "execution_count": 21,
   "metadata": {},
   "outputs": [
    {
     "name": "stdout",
     "output_type": "stream",
     "text": [
      "[(90, 66) (305, 281)]\n",
      "[[ 95 137]\n",
      " [ 98 162]\n",
      " [104 187]\n",
      " [108 212]\n",
      " [117 235]\n",
      " [131 255]\n",
      " [149 272]\n",
      " [170 285]\n",
      " [192 289]\n",
      " [215 285]\n",
      " [235 270]\n",
      " [253 251]\n",
      " [266 229]\n",
      " [272 205]\n",
      " [276 180]\n",
      " [283 156]\n",
      " [285 131]\n",
      " [101 114]\n",
      " [116 106]\n",
      " [134 107]\n",
      " [153 110]\n",
      " [172 117]\n",
      " [209 117]\n",
      " [227 109]\n",
      " [246 106]\n",
      " [265 105]\n",
      " [282 113]\n",
      " [190 135]\n",
      " [191 153]\n",
      " [191 172]\n",
      " [192 189]\n",
      " [177 199]\n",
      " [184 203]\n",
      " [192 205]\n",
      " [201 203]\n",
      " [208 199]\n",
      " [125 135]\n",
      " [136 127]\n",
      " [151 127]\n",
      " [163 139]\n",
      " [149 143]\n",
      " [135 143]\n",
      " [219 138]\n",
      " [230 127]\n",
      " [245 126]\n",
      " [257 134]\n",
      " [247 142]\n",
      " [232 142]\n",
      " [161 235]\n",
      " [172 226]\n",
      " [185 219]\n",
      " [193 222]\n",
      " [200 219]\n",
      " [212 226]\n",
      " [224 235]\n",
      " [213 247]\n",
      " [201 252]\n",
      " [193 252]\n",
      " [184 252]\n",
      " [172 247]\n",
      " [168 235]\n",
      " [185 231]\n",
      " [193 232]\n",
      " [200 232]\n",
      " [217 235]\n",
      " [201 235]\n",
      " [193 236]\n",
      " [185 235]] <class 'numpy.matrix'>\n"
     ]
    }
   ],
   "source": [
    "# -*- coding：utf-8 -*-\n",
    "import cv2\n",
    "import dlib\n",
    "import numpy as np\n",
    "\n",
    "\n",
    "predictor_model = 'shape_predictor_68_face_landmarks/shape_predictor_68_face_landmarks.dat'\n",
    "detector = dlib.get_frontal_face_detector()\n",
    "predictor = dlib.shape_predictor(predictor_model)\n",
    "\n",
    "# cv2读取图像\n",
    "test_film_path = \"3.png\"\n",
    "img = cv2.imread(test_film_path)\n",
    "# 取灰度\n",
    "img_gray = cv2.cvtColor(img, cv2.COLOR_RGB2GRAY)\n",
    "\n",
    "# 人脸数rects\n",
    "rects = detector(img_gray, 0)\n",
    "print(rects[0])\n",
    "for i in range(len(rects)):\n",
    "    landmarks = np.matrix([[p.x, p.y] for p in predictor(img,rects[i]).parts()])\n",
    "    print(landmarks, type(landmarks))\n",
    "    for idx, point in enumerate(landmarks):\n",
    "        # 68点的坐标\n",
    "        pos = (point[0, 0], point[0, 1])\n",
    "        #print(idx+1, pos)\n",
    "\n",
    "        # 利用cv2.circle给每个特征点画一个圈，共68个\n",
    "        cv2.circle(img, pos, 3, color=(0, 255, 0))\n",
    "        # 利用cv2.putText输出1-68\n",
    "        font = cv2.FONT_HERSHEY_SIMPLEX\n",
    "        cv2.putText(img, str(idx+1), pos, font, 0.5, (0, 0, 25 5), 1, cv2.LINE_AA)\n",
    "\n",
    "#cv2.imwrite(\"result.png\", img)\n",
    "cv2.imshow(\"img\", img)\n",
    "cv2.waitKey(0)\n",
    "cv2.destroyAllWindows() \n"
   ]
  },
  {
   "cell_type": "code",
   "execution_count": null,
   "metadata": {
    "collapsed": true
   },
   "outputs": [],
   "source": []
  }
 ],
 "metadata": {
  "kernelspec": {
   "display_name": "Python 3",
   "language": "python",
   "name": "python3"
  },
  "language_info": {
   "codemirror_mode": {
    "name": "ipython",
    "version": 3
   },
   "file_extension": ".py",
   "mimetype": "text/x-python",
   "name": "python",
   "nbconvert_exporter": "python",
   "pygments_lexer": "ipython3",
   "version": "3.6.2"
  }
 },
 "nbformat": 4,
 "nbformat_minor": 2
}
